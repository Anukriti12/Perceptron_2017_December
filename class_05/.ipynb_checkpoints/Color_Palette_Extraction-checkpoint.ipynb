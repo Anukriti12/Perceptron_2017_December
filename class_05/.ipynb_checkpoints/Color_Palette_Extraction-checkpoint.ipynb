{
 "cells": [
  {
   "cell_type": "code",
   "execution_count": 3,
   "metadata": {
    "collapsed": true
   },
   "outputs": [],
   "source": [
    "import numpy as np\n",
    "import matplotlib.pyplot as plt\n",
    "%matplotlib inline\n",
    "import cv2\n",
    "import sklearn\n",
    "from sklearn.cluster import KMeans"
   ]
  },
  {
   "cell_type": "code",
   "execution_count": 48,
   "metadata": {
    "collapsed": false
   },
   "outputs": [
    {
     "ename": "error",
     "evalue": "/build/opencv-SviWsf/opencv-2.4.9.1+dfsg/modules/imgproc/src/color.cpp:3648: error: (-215) scn == 3 || scn == 4 in function cvtColor\n",
     "output_type": "error",
     "traceback": [
      "\u001b[0;31m---------------------------------------------------------------------------\u001b[0m",
      "\u001b[0;31merror\u001b[0m                                     Traceback (most recent call last)",
      "\u001b[0;32m<ipython-input-48-5d7647ab4bcb>\u001b[0m in \u001b[0;36m<module>\u001b[0;34m()\u001b[0m\n\u001b[1;32m      1\u001b[0m \u001b[0;31m## Data\u001b[0m\u001b[0;34m\u001b[0m\u001b[0;34m\u001b[0m\u001b[0m\n\u001b[1;32m      2\u001b[0m \u001b[0mim\u001b[0m \u001b[0;34m=\u001b[0m \u001b[0mcv2\u001b[0m\u001b[0;34m.\u001b[0m\u001b[0mimread\u001b[0m\u001b[0;34m(\u001b[0m\u001b[0;34m'recent:///9f34552270784e35e2be0ab55a59b865'\u001b[0m\u001b[0;34m)\u001b[0m\u001b[0;34m\u001b[0m\u001b[0m\n\u001b[0;32m----> 3\u001b[0;31m \u001b[0mim\u001b[0m \u001b[0;34m=\u001b[0m \u001b[0mcv2\u001b[0m\u001b[0;34m.\u001b[0m\u001b[0mcvtColor\u001b[0m\u001b[0;34m(\u001b[0m\u001b[0mim\u001b[0m\u001b[0;34m,\u001b[0m \u001b[0mcv2\u001b[0m\u001b[0;34m.\u001b[0m\u001b[0mCOLOR_BGR2RGB\u001b[0m\u001b[0;34m)\u001b[0m\u001b[0;34m\u001b[0m\u001b[0m\n\u001b[0m\u001b[1;32m      4\u001b[0m \u001b[0;32mprint\u001b[0m \u001b[0mim\u001b[0m\u001b[0;34m.\u001b[0m\u001b[0mshape\u001b[0m\u001b[0;34m\u001b[0m\u001b[0m\n\u001b[1;32m      5\u001b[0m \u001b[0mr\u001b[0m \u001b[0;34m=\u001b[0m \u001b[0mim\u001b[0m\u001b[0;34m.\u001b[0m\u001b[0mshape\u001b[0m\u001b[0;34m[\u001b[0m\u001b[0;36m0\u001b[0m\u001b[0;34m]\u001b[0m\u001b[0;34m\u001b[0m\u001b[0m\n",
      "\u001b[0;31merror\u001b[0m: /build/opencv-SviWsf/opencv-2.4.9.1+dfsg/modules/imgproc/src/color.cpp:3648: error: (-215) scn == 3 || scn == 4 in function cvtColor\n"
     ]
    }
   ],
   "source": [
    "## Data\n",
    "im = cv2.imread('/home/ayush/Desktop/oldman1.jpg')\n",
    "im = cv2.cvtColor(im, cv2.COLOR_BGR2RGB)\n",
    "print im.shape\n",
    "r = im.shape[0]\n",
    "c = im.shape[1]\n",
    "\n",
    "new_r = 100\n",
    "new_c = int(new_r*float(c)/r)\n",
    "\n",
    "im = cv2.resize(im, (new_c,new_r))\n",
    "print im.shape\n",
    "#im = cv2.cvtColor(im, cv2.COLOR_BGR2RGB)\n",
    "plt.imshow(im)\n",
    "plt.show()"
   ]
  },
  {
   "cell_type": "code",
   "execution_count": 40,
   "metadata": {
    "collapsed": false
   },
   "outputs": [
    {
     "name": "stdout",
     "output_type": "stream",
     "text": [
      "(16000, 3)\n"
     ]
    }
   ],
   "source": [
    "## Data Generation - Each pixel is one data point. A data point is defined by 3 attributes(R, G, B)\n",
    "cols = im.shape[-1]\n",
    "data = im.reshape((-1, cols))\n",
    "print data.shape"
   ]
  },
  {
   "cell_type": "code",
   "execution_count": 41,
   "metadata": {
    "collapsed": false
   },
   "outputs": [
    {
     "data": {
      "text/plain": [
       "KMeans(algorithm='auto', copy_x=True, init='k-means++', max_iter=300,\n",
       "    n_clusters=8, n_init=10, n_jobs=1, precompute_distances='auto',\n",
       "    random_state=None, tol=0.0001, verbose=0)"
      ]
     },
     "execution_count": 41,
     "metadata": {},
     "output_type": "execute_result"
    }
   ],
   "source": [
    "## Clustering\n",
    "km = KMeans(n_clusters=8)\n",
    "km.fit(data)"
   ]
  },
  {
   "cell_type": "code",
   "execution_count": 42,
   "metadata": {
    "collapsed": false
   },
   "outputs": [
    {
     "name": "stdout",
     "output_type": "stream",
     "text": [
      "[[ 27  45  89]\n",
      " [197 169 185]\n",
      " [110 116 133]\n",
      " [168 140 135]\n",
      " [ 63  83 117]\n",
      " [246 218 179]\n",
      " [143  86  90]\n",
      " [222 176 136]]\n",
      "(8, 3)\n"
     ]
    }
   ],
   "source": [
    "center_color = np.array(km.cluster_centers_, dtype='uint8')\n",
    "print center_color\n",
    "print center_color.shape"
   ]
  },
  {
   "cell_type": "code",
   "execution_count": 43,
   "metadata": {
    "collapsed": false
   },
   "outputs": [
    {
     "name": "stdout",
     "output_type": "stream",
     "text": [
      "[1798 1219 2357 2571 2247 2425 1344 2039]\n",
      "16000\n",
      "[ 0.112375   0.0761875  0.1473125  0.1606875  0.1404375  0.1515625  0.084\n",
      "  0.1274375]\n"
     ]
    }
   ],
   "source": [
    "freq = np.unique(km.labels_, return_counts=True)[1]\n",
    "print freq\n",
    "print freq.sum()\n",
    "freq = freq/float(data.shape[0])\n",
    "print freq"
   ]
  },
  {
   "cell_type": "code",
   "execution_count": 44,
   "metadata": {
    "collapsed": false
   },
   "outputs": [
    {
     "name": "stdout",
     "output_type": "stream",
     "text": [
      "[0.112375, array([27, 45, 89], dtype=uint8)]\n",
      "------------\n",
      "[0.076187500000000005, array([197, 169, 185], dtype=uint8)]\n",
      "------------\n",
      "[0.14731250000000001, array([110, 116, 133], dtype=uint8)]\n",
      "------------\n",
      "[0.16068750000000001, array([168, 140, 135], dtype=uint8)]\n",
      "------------\n",
      "[0.14043749999999999, array([ 63,  83, 117], dtype=uint8)]\n",
      "------------\n",
      "[0.15156249999999999, array([246, 218, 179], dtype=uint8)]\n",
      "------------\n",
      "[0.084000000000000005, array([143,  86,  90], dtype=uint8)]\n",
      "------------\n",
      "[0.12743750000000001, array([222, 176, 136], dtype=uint8)]\n",
      "------------\n"
     ]
    }
   ],
   "source": [
    "DOM = [[freq[ix], center_color[ix]] for ix in range(km.n_clusters)]\n",
    "for ij in DOM:\n",
    "    print ij\n",
    "    print '------------'"
   ]
  },
  {
   "cell_type": "code",
   "execution_count": 45,
   "metadata": {
    "collapsed": false
   },
   "outputs": [
    {
     "name": "stdout",
     "output_type": "stream",
     "text": [
      "[0.112375, array([27, 45, 89], dtype=uint8)]\n",
      "----------\n",
      "[0.076187500000000005, array([197, 169, 185], dtype=uint8)]\n",
      "----------\n",
      "[0.14731250000000001, array([110, 116, 133], dtype=uint8)]\n",
      "----------\n",
      "[0.16068750000000001, array([168, 140, 135], dtype=uint8)]\n",
      "----------\n",
      "[0.14043749999999999, array([ 63,  83, 117], dtype=uint8)]\n",
      "----------\n",
      "[0.15156249999999999, array([246, 218, 179], dtype=uint8)]\n",
      "----------\n",
      "[0.084000000000000005, array([143,  86,  90], dtype=uint8)]\n",
      "----------\n",
      "[0.12743750000000001, array([222, 176, 136], dtype=uint8)]\n",
      "----------\n"
     ]
    }
   ],
   "source": [
    "struc = []\n",
    "for ix in range(km.n_clusters):\n",
    "    #print ix\n",
    "    ele = []\n",
    "    ele.append(freq[ix])\n",
    "    ele.append(center_color[ix])\n",
    "    struc.append(ele)\n",
    "\n",
    "for ij in struc:\n",
    "    print ij\n",
    "    print '----------'"
   ]
  },
  {
   "cell_type": "code",
   "execution_count": 46,
   "metadata": {
    "collapsed": false
   },
   "outputs": [
    {
     "name": "stdout",
     "output_type": "stream",
     "text": [
      "[0.16068750000000001, array([168, 140, 135], dtype=uint8)]\n",
      "---------\n",
      "[0.15156249999999999, array([246, 218, 179], dtype=uint8)]\n",
      "---------\n",
      "[0.14731250000000001, array([110, 116, 133], dtype=uint8)]\n",
      "---------\n",
      "[0.14043749999999999, array([ 63,  83, 117], dtype=uint8)]\n",
      "---------\n",
      "[0.12743750000000001, array([222, 176, 136], dtype=uint8)]\n",
      "---------\n",
      "[0.112375, array([27, 45, 89], dtype=uint8)]\n",
      "---------\n",
      "[0.084000000000000005, array([143,  86,  90], dtype=uint8)]\n",
      "---------\n",
      "[0.076187500000000005, array([197, 169, 185], dtype=uint8)]\n",
      "---------\n"
     ]
    }
   ],
   "source": [
    "DOM = sorted(DOM, key=lambda z:z[0], reverse=True)\n",
    "for im in DOM:\n",
    "    print im\n",
    "    print '---------'"
   ]
  },
  {
   "cell_type": "code",
   "execution_count": 47,
   "metadata": {
    "collapsed": false
   },
   "outputs": [
    {
     "data": {
      "image/png": "[encoded data removed]",
      "text/plain": [
       "<matplotlib.figure.Figure at 0x7fac04272fd0>"
      ]
     },
     "metadata": {},
     "output_type": "display_data"
    }
   ],
   "source": [
    "patch = np.ones((40,600,3))\n",
    "start = 0\n",
    "for ix in range(km.n_clusters):\n",
    "    width = int(DOM[ix][0]*patch.shape[1])\n",
    "    end = start + width\n",
    "    patch[:, start:end, :] = DOM[ix][1]\n",
    "    start = end\n",
    "    plt.axis(\"off\")\n",
    "    plt.imshow(patch)\n",
    "plt.show()"
   ]
  },
  {
   "cell_type": "code",
   "execution_count": null,
   "metadata": {
    "collapsed": true
   },
   "outputs": [],
   "source": []
  },
  {
   "cell_type": "code",
   "execution_count": null,
   "metadata": {
    "collapsed": true
   },
   "outputs": [],
   "source": []
  }
 ],
 "metadata": {
  "kernelspec": {
   "display_name": "Python 2",
   "language": "python",
   "name": "python2"
  },
  "language_info": {
   "codemirror_mode": {
    "name": "ipython",
    "version": 2
   },
   "file_extension": ".py",
   "mimetype": "text/x-python",
   "name": "python",
   "nbconvert_exporter": "python",
   "pygments_lexer": "ipython2",
   "version": "2.7.12"
  }
 },
 "nbformat": 4,
 "nbformat_minor": 2
}
