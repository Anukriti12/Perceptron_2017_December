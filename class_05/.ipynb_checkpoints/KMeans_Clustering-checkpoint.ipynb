{
 "cells": [
  {
   "cell_type": "code",
   "execution_count": 1,
   "metadata": {
    "collapsed": true
   },
   "outputs": [],
   "source": [
    "import numpy as np\n",
    "import matplotlib.pyplot as plt\n",
    "%matplotlib inline"
   ]
  },
  {
   "cell_type": "code",
   "execution_count": 13,
   "metadata": {
    "collapsed": false
   },
   "outputs": [
    {
     "name": "stdout",
     "output_type": "stream",
     "text": [
      "(500, 2) (500, 2)\n"
     ]
    }
   ],
   "source": [
    "## Part 1. Data Generation\n",
    "mean_01 = np.array([1.0, 0.5])\n",
    "mean_02 = np.array([6.2, 6.6])\n",
    "\n",
    "cov_01 = np.array([[1.0, 0.1], [0.1,1.2]])\n",
    "cov_02 = np.array([[1.0, 0.1], [0.1,1.0]])\n",
    "\n",
    "dist_01 = np.random.multivariate_normal(mean_01, cov_01, 500)\n",
    "dist_02 = np.random.multivariate_normal(mean_02, cov_02, 500)\n",
    "\n",
    "print dist_01.shape, dist_02.shape"
   ]
  },
  {
   "cell_type": "code",
   "execution_count": 14,
   "metadata": {
    "collapsed": false
   },
   "outputs": [
    {
     "data": {
      "image/png": "[encoded data removed]",
      "text/plain": [
       "<matplotlib.figure.Figure at 0x7f351ec38ed0>"
      ]
     },
     "metadata": {},
     "output_type": "display_data"
    }
   ],
   "source": [
    "plt.scatter(dist_01[:, 0], dist_01[:, 1], c='r')\n",
    "plt.scatter(dist_02[:, 0], dist_02[:, 1], c='y')\n",
    "plt.show()"
   ]
  },
  {
   "cell_type": "code",
   "execution_count": 15,
   "metadata": {
    "collapsed": false
   },
   "outputs": [
    {
     "name": "stdout",
     "output_type": "stream",
     "text": [
      "(1000, 2)\n",
      "(500, 4)\n",
      "(1000, 2)\n"
     ]
    }
   ],
   "source": [
    "## Generating the data matrix\n",
    "data = np.concatenate((dist_01, dist_02))\n",
    "print data.shape\n",
    "\n",
    "d_hstack = np.hstack((dist_01, dist_02))\n",
    "print d_hstack.shape\n",
    "\n",
    "d_vstack = np.vstack((dist_01, dist_02))\n",
    "print d_vstack.shape"
   ]
  },
  {
   "cell_type": "code",
   "execution_count": 11,
   "metadata": {
    "collapsed": false
   },
   "outputs": [
    {
     "name": "stdout",
     "output_type": "stream",
     "text": [
      "(300, 2)\n"
     ]
    }
   ],
   "source": [
    "mat1 = np.random.random(size=(100,2))\n",
    "mat2 = np.random.random(size=(200,2))\n",
    "print np.vstack((mat1, mat2)).shape\n",
    "## Following Code throws error\n",
    "    # hstk = np.hstack((mat1, mat2))\n",
    "    # print hstk.shape"
   ]
  },
  {
   "cell_type": "code",
   "execution_count": 24,
   "metadata": {
    "collapsed": false
   },
   "outputs": [
    {
     "name": "stdout",
     "output_type": "stream",
     "text": [
      "-2.74453281496\n",
      "9.55769696568\n",
      "(1000, 2)\n",
      "(2,)\n",
      "----------------\n",
      "(1000,)\n"
     ]
    }
   ],
   "source": [
    "print data.min()\n",
    "print data.max()\n",
    "print data.shape\n",
    "print data.max(axis=0).shape\n",
    "print '----------------'\n",
    "print data.max(axis=1).shape"
   ]
  },
  {
   "cell_type": "code",
   "execution_count": 30,
   "metadata": {
    "collapsed": true
   },
   "outputs": [],
   "source": [
    "## Part 2 : Initialisation of Clustering Problem\n",
    "K = 4\n",
    "clusters = {}\n",
    "colours = ['yellow', 'red', 'pink', 'green']\n",
    "for cx in range(K):\n",
    "    cluster_vals = {\n",
    "        'centroid' : np.random.uniform(low=data.min(), high=data.max(), size=(data.shape[1])),\n",
    "        'points' : [],\n",
    "        'history' : [],\n",
    "        'color' : colours[cx],\n",
    "    }\n",
    "    clusters[cx] = cluster_vals\n",
    "\n",
    "n_steps = 3"
   ]
  },
  {
   "cell_type": "code",
   "execution_count": 31,
   "metadata": {
    "collapsed": false
   },
   "outputs": [
    {
     "name": "stdout",
     "output_type": "stream",
     "text": [
      "1.41421356237\n"
     ]
    }
   ],
   "source": [
    "def distance(p1, p2):\n",
    "    ## Eucledian Distance\n",
    "    return np.sqrt(((p1-p2)**2).sum())\n",
    "\n",
    "print distance(np.array([0.0, 0.0]), np.array([1.0, 1.0]))"
   ]
  },
  {
   "cell_type": "code",
   "execution_count": 32,
   "metadata": {
    "collapsed": false
   },
   "outputs": [
    {
     "name": "stdout",
     "output_type": "stream",
     "text": [
      "green\n",
      "green\n",
      "green\n",
      "green\n"
     ]
    }
   ],
   "source": [
    "for ix in range(K):\n",
    "    print clusters[ix]['color']"
   ]
  },
  {
   "cell_type": "code",
   "execution_count": 29,
   "metadata": {
    "collapsed": false
   },
   "outputs": [
    {
     "ename": "KeyError",
     "evalue": "'color'",
     "output_type": "error",
     "traceback": [
      "\u001b[0;31m---------------------------------------------------------------------------\u001b[0m",
      "\u001b[0;31mKeyError\u001b[0m                                  Traceback (most recent call last)",
      "\u001b[0;32m<ipython-input-29-44256b783472>\u001b[0m in \u001b[0;36m<module>\u001b[0;34m()\u001b[0m\n\u001b[1;32m     10\u001b[0m         \u001b[0mc_id\u001b[0m \u001b[0;34m=\u001b[0m \u001b[0mnp\u001b[0m\u001b[0;34m.\u001b[0m\u001b[0margmin\u001b[0m\u001b[0;34m(\u001b[0m\u001b[0md\u001b[0m\u001b[0;34m)\u001b[0m \u001b[0;31m## Step 1 - Assigned cluster id to the particular point\u001b[0m\u001b[0;34m\u001b[0m\u001b[0m\n\u001b[1;32m     11\u001b[0m         \u001b[0mclusters\u001b[0m\u001b[0;34m[\u001b[0m\u001b[0mc_id\u001b[0m\u001b[0;34m]\u001b[0m\u001b[0;34m[\u001b[0m\u001b[0;34m'points'\u001b[0m\u001b[0;34m]\u001b[0m\u001b[0;34m.\u001b[0m\u001b[0mappend\u001b[0m\u001b[0;34m(\u001b[0m\u001b[0mdata\u001b[0m\u001b[0;34m[\u001b[0m\u001b[0mbx\u001b[0m\u001b[0;34m]\u001b[0m\u001b[0;34m)\u001b[0m\u001b[0;34m\u001b[0m\u001b[0m\n\u001b[0;32m---> 12\u001b[0;31m         \u001b[0mplt\u001b[0m\u001b[0;34m.\u001b[0m\u001b[0mscatter\u001b[0m\u001b[0;34m(\u001b[0m\u001b[0mdata\u001b[0m\u001b[0;34m[\u001b[0m\u001b[0mbx\u001b[0m\u001b[0;34m,\u001b[0m \u001b[0;36m0\u001b[0m\u001b[0;34m]\u001b[0m\u001b[0;34m,\u001b[0m \u001b[0mdata\u001b[0m\u001b[0;34m[\u001b[0m\u001b[0mbx\u001b[0m\u001b[0;34m,\u001b[0m \u001b[0;36m1\u001b[0m\u001b[0;34m]\u001b[0m\u001b[0;34m,\u001b[0m \u001b[0mc\u001b[0m\u001b[0;34m=\u001b[0m\u001b[0mclusters\u001b[0m\u001b[0;34m[\u001b[0m\u001b[0mc_id\u001b[0m\u001b[0;34m]\u001b[0m\u001b[0;34m[\u001b[0m\u001b[0;34m'color'\u001b[0m\u001b[0;34m]\u001b[0m\u001b[0;34m)\u001b[0m\u001b[0;34m\u001b[0m\u001b[0m\n\u001b[0m\u001b[1;32m     13\u001b[0m \u001b[0;34m\u001b[0m\u001b[0m\n\u001b[1;32m     14\u001b[0m     \u001b[0;32mfor\u001b[0m \u001b[0mcx\u001b[0m \u001b[0;32min\u001b[0m \u001b[0mrange\u001b[0m\u001b[0;34m(\u001b[0m\u001b[0mK\u001b[0m\u001b[0;34m)\u001b[0m\u001b[0;34m:\u001b[0m\u001b[0;34m\u001b[0m\u001b[0m\n",
      "\u001b[0;31mKeyError\u001b[0m: 'color'"
     ]
    },
    {
     "data": {
      "text/plain": [
       "<matplotlib.figure.Figure at 0x7f351eb21bd0>"
      ]
     },
     "metadata": {},
     "output_type": "display_data"
    }
   ],
   "source": [
    "## Part 3 Execution Logic\n",
    "for ix in range(n_steps):\n",
    "    plt.figure(ix)\n",
    "    for bx in range(data.shape[0]):\n",
    "        d = []\n",
    "        for cx in range(K):\n",
    "            dis = distance(data[bx], clusters[cx]['centroid'])\n",
    "            d.append(dis)\n",
    "        d = np.asarray(d)\n",
    "        c_id = np.argmin(d) ## Step 1 - Assigned cluster id to the particular point\n",
    "        clusters[c_id]['points'].append(data[bx])\n",
    "        plt.scatter(data[bx, 0], data[bx, 1], c=clusters[c_id]['color'])\n",
    "\n",
    "    for cx in range(K):\n",
    "        plt.scatter(clusters[cx]['centroid'][0],clusters[cx]['centroid'][1], c='black')\n",
    "    \n",
    "    ## Step 2 - Update the cluster centroid\n",
    "    for cx in range(K):\n",
    "        clusters[cx]['history'].append(clusters[cx]['centroid'])\n",
    "        \n",
    "        if len(clusters[cx]['points']) != 0:\n",
    "            mean_value = np.mean(np.array(clusters[cx]['points']),axis=0)\n",
    "            \n",
    "            clusters[cx]['centroid'] = mean_value\n",
    "        \n",
    "        ## Step 3 - Reinit the points list for next iteration\n",
    "        clusters[cx]['points'] = []\n",
    "    \n",
    "    plt.show()"
   ]
  },
  {
   "cell_type": "code",
   "execution_count": null,
   "metadata": {
    "collapsed": true
   },
   "outputs": [],
   "source": []
  },
  {
   "cell_type": "code",
   "execution_count": null,
   "metadata": {
    "collapsed": true
   },
   "outputs": [],
   "source": []
  },
  {
   "cell_type": "code",
   "execution_count": null,
   "metadata": {
    "collapsed": true
   },
   "outputs": [],
   "source": []
  }
 ],
 "metadata": {
  "kernelspec": {
   "display_name": "Python 2",
   "language": "python",
   "name": "python2"
  },
  "language_info": {
   "codemirror_mode": {
    "name": "ipython",
    "version": 2
   },
   "file_extension": ".py",
   "mimetype": "text/x-python",
   "name": "python",
   "nbconvert_exporter": "python",
   "pygments_lexer": "ipython2",
   "version": "2.7.12"
  }
 },
 "nbformat": 4,
 "nbformat_minor": 2
}
