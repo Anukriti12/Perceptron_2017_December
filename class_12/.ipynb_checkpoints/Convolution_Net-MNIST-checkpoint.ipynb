{
 "cells": [
  {
   "cell_type": "code",
   "execution_count": 21,
   "metadata": {
    "collapsed": true
   },
   "outputs": [],
   "source": [
    "import numpy as np\n",
    "from keras.utils import np_utils\n",
    "from keras.layers import Dense, Activation, Flatten, Dropout, Convolution2D, MaxPooling2D\n",
    "from keras.models import Sequential\n",
    "import pandas as pd"
   ]
  },
  {
   "cell_type": "code",
   "execution_count": 10,
   "metadata": {
    "collapsed": false
   },
   "outputs": [
    {
     "name": "stdout",
     "output_type": "stream",
     "text": [
      "(4500, 785)\n"
     ]
    }
   ],
   "source": [
    "ds = pd.read_csv('/home/ayush/Downloads/mnist_train.csv')\n",
    "data = ds.values[:4500]\n",
    "print data.shape"
   ]
  },
  {
   "cell_type": "code",
   "execution_count": 11,
   "metadata": {
    "collapsed": false
   },
   "outputs": [
    {
     "name": "stdout",
     "output_type": "stream",
     "text": [
      "[0. 1. 2. 3. 4. 5. 6. 7. 8. 9.]\n",
      "(4500, 10)\n"
     ]
    }
   ],
   "source": [
    "X = data[:, 1:]\n",
    "y = data[:, 0]\n",
    "Y = np_utils.to_categorical(y)\n",
    "print np.unique(y)\n",
    "print Y.shape"
   ]
  },
  {
   "cell_type": "code",
   "execution_count": 13,
   "metadata": {
    "collapsed": false
   },
   "outputs": [
    {
     "name": "stdout",
     "output_type": "stream",
     "text": [
      "(3600, 784)\n",
      "(900, 784)\n",
      "(3600, 28, 28, 1)\n",
      "(900, 28, 28, 1)\n"
     ]
    }
   ],
   "source": [
    "split = int(0.8*data.shape[0])\n",
    "print X[:split].shape\n",
    "print X[split:].shape\n",
    "X_train = X[:split].reshape((-1, 28, 28, 1))\n",
    "X_test = X[split:].reshape((-1, 28, 28, 1))\n",
    "\n",
    "Y_train = Y[:split]\n",
    "Y_test = Y[split:]\n",
    "\n",
    "print X_train.shape\n",
    "print X_test.shape"
   ]
  },
  {
   "cell_type": "code",
   "execution_count": 14,
   "metadata": {
    "collapsed": false
   },
   "outputs": [
    {
     "name": "stdout",
     "output_type": "stream",
     "text": [
      "10\n"
     ]
    }
   ],
   "source": [
    "num_classes = len(np.unique(y))\n",
    "print num_classes"
   ]
  },
  {
   "cell_type": "code",
   "execution_count": 18,
   "metadata": {
    "collapsed": false
   },
   "outputs": [
    {
     "name": "stdout",
     "output_type": "stream",
     "text": [
      "____________________________________________________________________________________________________\n",
      "Layer (type)                     Output Shape          Param #     Connected to                     \n",
      "====================================================================================================\n",
      "convolution2d_7 (Convolution2D)  (None, 26, 26, 32)    320         convolution2d_input_3[0][0]      \n",
      "____________________________________________________________________________________________________\n",
      "activation_9 (Activation)        (None, 26, 26, 32)    0           convolution2d_7[0][0]            \n",
      "____________________________________________________________________________________________________\n",
      "convolution2d_8 (Convolution2D)  (None, 24, 24, 64)    18496       activation_9[0][0]               \n",
      "____________________________________________________________________________________________________\n",
      "activation_10 (Activation)       (None, 24, 24, 64)    0           convolution2d_8[0][0]            \n",
      "____________________________________________________________________________________________________\n",
      "maxpooling2d_3 (MaxPooling2D)    (None, 12, 12, 64)    0           activation_10[0][0]              \n",
      "____________________________________________________________________________________________________\n",
      "convolution2d_9 (Convolution2D)  (None, 10, 10, 16)    9232        maxpooling2d_3[0][0]             \n",
      "____________________________________________________________________________________________________\n",
      "activation_11 (Activation)       (None, 10, 10, 16)    0           convolution2d_9[0][0]            \n",
      "____________________________________________________________________________________________________\n",
      "flatten_3 (Flatten)              (None, 1600)          0           activation_11[0][0]              \n",
      "____________________________________________________________________________________________________\n",
      "dense_3 (Dense)                  (None, 10)            16010       flatten_3[0][0]                  \n",
      "____________________________________________________________________________________________________\n",
      "activation_12 (Activation)       (None, 10)            0           dense_3[0][0]                    \n",
      "====================================================================================================\n",
      "Total params: 44,058\n",
      "Trainable params: 44,058\n",
      "Non-trainable params: 0\n",
      "____________________________________________________________________________________________________\n"
     ]
    }
   ],
   "source": [
    "model = Sequential()\n",
    "\n",
    "#Convolution Block 1\n",
    "## Here - (b, 28, 28, 1)\n",
    "model.add(Convolution2D(32, 3, 3, input_shape=(28, 28, 1)))\n",
    "model.add(Activation('relu'))\n",
    "## Here - (b, 26, 26, 32)\n",
    "model.add(Convolution2D(64, 3, 3))\n",
    "model.add(Activation('relu'))\n",
    "## Here - (b, 24, 24, 64)\n",
    "model.add(MaxPooling2D(pool_size=(2, 2)))\n",
    "## Here - (b, 12, 12, 64)\n",
    "model.add(Convolution2D(16, 3, 3))\n",
    "model.add(Activation('relu'))\n",
    "## Here (b, 10, 10, 16)\n",
    "model.add(Flatten())\n",
    "## Here (b, 1600)\n",
    "model.add(Dropout(0.25))\n",
    "model.add(Dense(num_classes))\n",
    "## Here (b, 10)\n",
    "model.add(Activation('softmax'))\n",
    "\n",
    "model.summary()"
   ]
  },
  {
   "cell_type": "code",
   "execution_count": 19,
   "metadata": {
    "collapsed": true
   },
   "outputs": [],
   "source": [
    "model.compile(loss='categorical_crossentropy', optimizer='adam', metrics=['accuracy'])"
   ]
  },
  {
   "cell_type": "code",
   "execution_count": 20,
   "metadata": {
    "collapsed": false
   },
   "outputs": [
    {
     "name": "stdout",
     "output_type": "stream",
     "text": [
      "Train on 3600 samples, validate on 900 samples\n",
      "Epoch 1/12\n",
      "12s - loss: 0.5243 - acc: 0.8303 - val_loss: 0.2244 - val_acc: 0.9300\n",
      "Epoch 2/12\n",
      "12s - loss: 0.1545 - acc: 0.9597 - val_loss: 0.1800 - val_acc: 0.9411\n",
      "Epoch 3/12\n",
      "12s - loss: 0.1009 - acc: 0.9706 - val_loss: 0.2331 - val_acc: 0.9356\n",
      "Epoch 4/12\n",
      "13s - loss: 0.0540 - acc: 0.9833 - val_loss: 0.2035 - val_acc: 0.9544\n",
      "Epoch 5/12\n",
      "12s - loss: 0.0314 - acc: 0.9911 - val_loss: 0.2536 - val_acc: 0.9511\n",
      "Epoch 6/12\n",
      "13s - loss: 0.0558 - acc: 0.9822 - val_loss: 0.2815 - val_acc: 0.9511\n",
      "Epoch 7/12\n",
      "14s - loss: 0.0335 - acc: 0.9906 - val_loss: 0.2903 - val_acc: 0.9489\n",
      "Epoch 8/12\n",
      "14s - loss: 0.0275 - acc: 0.9922 - val_loss: 0.2843 - val_acc: 0.9456\n",
      "Epoch 9/12\n",
      "14s - loss: 0.0117 - acc: 0.9967 - val_loss: 0.3234 - val_acc: 0.9400\n",
      "Epoch 10/12\n",
      "16s - loss: 0.0054 - acc: 0.9975 - val_loss: 0.3245 - val_acc: 0.9511\n",
      "Epoch 11/12\n",
      "14s - loss: 0.0420 - acc: 0.9875 - val_loss: 0.3145 - val_acc: 0.9467\n",
      "Epoch 12/12\n",
      "14s - loss: 0.0399 - acc: 0.9864 - val_loss: 0.3752 - val_acc: 0.9456\n"
     ]
    }
   ],
   "source": [
    "hist = model.fit(X_train, Y_train, validation_data=(X_test, Y_test), nb_epoch=12, batch_size=16, verbose=2)"
   ]
  },
  {
   "cell_type": "code",
   "execution_count": 22,
   "metadata": {
    "collapsed": false
   },
   "outputs": [
    {
     "name": "stdout",
     "output_type": "stream",
     "text": [
      "____________________________________________________________________________________________________\n",
      "Layer (type)                     Output Shape          Param #     Connected to                     \n",
      "====================================================================================================\n",
      "convolution2d_10 (Convolution2D) (None, 26, 26, 32)    320         convolution2d_input_4[0][0]      \n",
      "____________________________________________________________________________________________________\n",
      "activation_13 (Activation)       (None, 26, 26, 32)    0           convolution2d_10[0][0]           \n",
      "____________________________________________________________________________________________________\n",
      "convolution2d_11 (Convolution2D) (None, 24, 24, 64)    18496       activation_13[0][0]              \n",
      "____________________________________________________________________________________________________\n",
      "activation_14 (Activation)       (None, 24, 24, 64)    0           convolution2d_11[0][0]           \n",
      "____________________________________________________________________________________________________\n",
      "maxpooling2d_4 (MaxPooling2D)    (None, 12, 12, 64)    0           activation_14[0][0]              \n",
      "____________________________________________________________________________________________________\n",
      "convolution2d_12 (Convolution2D) (None, 10, 10, 16)    9232        maxpooling2d_4[0][0]             \n",
      "____________________________________________________________________________________________________\n",
      "activation_15 (Activation)       (None, 10, 10, 16)    0           convolution2d_12[0][0]           \n",
      "____________________________________________________________________________________________________\n",
      "flatten_4 (Flatten)              (None, 1600)          0           activation_15[0][0]              \n",
      "____________________________________________________________________________________________________\n",
      "dropout_1 (Dropout)              (None, 1600)          0           flatten_4[0][0]                  \n",
      "____________________________________________________________________________________________________\n",
      "dense_4 (Dense)                  (None, 10)            16010       dropout_1[0][0]                  \n",
      "____________________________________________________________________________________________________\n",
      "activation_16 (Activation)       (None, 10)            0           dense_4[0][0]                    \n",
      "====================================================================================================\n",
      "Total params: 44,058\n",
      "Trainable params: 44,058\n",
      "Non-trainable params: 0\n",
      "____________________________________________________________________________________________________\n"
     ]
    }
   ],
   "source": [
    "model2 = Sequential()\n",
    "\n",
    "#Convolution Block 1\n",
    "## Here - (b, 28, 28, 1)\n",
    "model2.add(Convolution2D(32, 3, 3, input_shape=(28, 28, 1)))\n",
    "model2.add(Activation('relu'))\n",
    "## Here - (b, 26, 26, 32)\n",
    "model2.add(Convolution2D(64, 3, 3))\n",
    "model2.add(Activation('relu'))\n",
    "## Here - (b, 24, 24, 64)\n",
    "model2.add(MaxPooling2D(pool_size=(2, 2)))\n",
    "## Here - (b, 12, 12, 64)\n",
    "model2.add(Convolution2D(16, 3, 3))\n",
    "model2.add(Activation('relu'))\n",
    "## Here (b, 10, 10, 16)\n",
    "model2.add(Flatten())\n",
    "## Here (b, 1600)\n",
    "model2.add(Dropout(0.25))\n",
    "model2.add(Dense(num_classes))\n",
    "## Here (b, 10)\n",
    "model2.add(Activation('softmax'))\n",
    "\n",
    "model2.summary()"
   ]
  },
  {
   "cell_type": "code",
   "execution_count": 23,
   "metadata": {
    "collapsed": true
   },
   "outputs": [],
   "source": [
    "model2.compile(loss='categorical_crossentropy', optimizer='adam', metrics=['accuracy'])"
   ]
  },
  {
   "cell_type": "code",
   "execution_count": null,
   "metadata": {
    "collapsed": true
   },
   "outputs": [],
   "source": [
    "hist = model2.fit(X_train, Y_train, validation_data=(X_test, Y_test), nb_epoch=6, batch_size=16, verbose=2)"
   ]
  }
 ],
 "metadata": {
  "kernelspec": {
   "display_name": "Python 2",
   "language": "python",
   "name": "python2"
  },
  "language_info": {
   "codemirror_mode": {
    "name": "ipython",
    "version": 2
   },
   "file_extension": ".py",
   "mimetype": "text/x-python",
   "name": "python",
   "nbconvert_exporter": "python",
   "pygments_lexer": "ipython2",
   "version": "2.7.12"
  }
 },
 "nbformat": 4,
 "nbformat_minor": 2
}
