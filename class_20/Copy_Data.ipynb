{
 "cells": [
  {
   "cell_type": "code",
   "execution_count": 3,
   "metadata": {
    "collapsed": true
   },
   "outputs": [],
   "source": [
    "from shutil import copy\n",
    "import os"
   ]
  },
  {
   "cell_type": "code",
   "execution_count": 6,
   "metadata": {
    "collapsed": false
   },
   "outputs": [
    {
     "name": "stdout",
     "output_type": "stream",
     "text": [
      "48\n"
     ]
    }
   ],
   "source": [
    "old_dir = '/home/ayush/handtracking/egohands/_LABELLED_SAMPLES/'\n",
    "img_folds = os.listdir(old_dir)\n",
    "print len(img_folds)"
   ]
  },
  {
   "cell_type": "code",
   "execution_count": 7,
   "metadata": {
    "collapsed": true
   },
   "outputs": [],
   "source": [
    "new_dir_root = './VOCHandsDataset/JPEGImages/'"
   ]
  },
  {
   "cell_type": "code",
   "execution_count": 9,
   "metadata": {
    "collapsed": false
   },
   "outputs": [
    {
     "name": "stdout",
     "output_type": "stream",
     "text": [
      "/home/ayush/handtracking/egohands/_LABELLED_SAMPLES/CARDS_LIVINGROOM_T_B/CARDS_LIVINGROOM_T_B_frame_1789.jpg\n",
      "./VOCHandsDataset/JPEGImages/_CARDS_LIVINGROOM_T_B_frame_1789.jpg\n",
      "------------\n",
      "/home/ayush/handtracking/egohands/_LABELLED_SAMPLES/CARDS_LIVINGROOM_T_B/CARDS_LIVINGROOM_T_B_frame_0146.jpg\n",
      "./VOCHandsDataset/JPEGImages/_CARDS_LIVINGROOM_T_B_frame_0146.jpg\n",
      "------------\n",
      "/home/ayush/handtracking/egohands/_LABELLED_SAMPLES/CARDS_LIVINGROOM_T_B/CARDS_LIVINGROOM_T_B_frame_1690.jpg\n",
      "./VOCHandsDataset/JPEGImages/_CARDS_LIVINGROOM_T_B_frame_1690.jpg\n",
      "------------\n",
      "/home/ayush/handtracking/egohands/_LABELLED_SAMPLES/CARDS_LIVINGROOM_T_B/CARDS_LIVINGROOM_T_B_frame_2281.jpg\n",
      "./VOCHandsDataset/JPEGImages/_CARDS_LIVINGROOM_T_B_frame_2281.jpg\n",
      "------------\n",
      "/home/ayush/handtracking/egohands/_LABELLED_SAMPLES/CARDS_LIVINGROOM_T_B/CARDS_LIVINGROOM_T_B_frame_1509.jpg\n",
      "./VOCHandsDataset/JPEGImages/_CARDS_LIVINGROOM_T_B_frame_1509.jpg\n",
      "------------\n",
      "/home/ayush/handtracking/egohands/_LABELLED_SAMPLES/CARDS_LIVINGROOM_T_B/CARDS_LIVINGROOM_T_B_frame_2425.jpg\n",
      "./VOCHandsDataset/JPEGImages/_CARDS_LIVINGROOM_T_B_frame_2425.jpg\n",
      "------------\n",
      "/home/ayush/handtracking/egohands/_LABELLED_SAMPLES/CARDS_LIVINGROOM_T_B/CARDS_LIVINGROOM_T_B_frame_0556.jpg\n",
      "./VOCHandsDataset/JPEGImages/_CARDS_LIVINGROOM_T_B_frame_0556.jpg\n",
      "------------\n",
      "/home/ayush/handtracking/egohands/_LABELLED_SAMPLES/CARDS_LIVINGROOM_T_B/CARDS_LIVINGROOM_T_B_frame_2273.jpg\n",
      "./VOCHandsDataset/JPEGImages/_CARDS_LIVINGROOM_T_B_frame_2273.jpg\n",
      "------------\n",
      "/home/ayush/handtracking/egohands/_LABELLED_SAMPLES/CARDS_LIVINGROOM_T_B/CARDS_LIVINGROOM_T_B_frame_1424.jpg\n",
      "./VOCHandsDataset/JPEGImages/_CARDS_LIVINGROOM_T_B_frame_1424.jpg\n",
      "------------\n",
      "/home/ayush/handtracking/egohands/_LABELLED_SAMPLES/CARDS_LIVINGROOM_T_B/CARDS_LIVINGROOM_T_B_frame_2359.jpg\n",
      "./VOCHandsDataset/JPEGImages/_CARDS_LIVINGROOM_T_B_frame_2359.jpg\n",
      "------------\n",
      "7302\n"
     ]
    }
   ],
   "source": [
    "count = 0\n",
    "for fld in img_folds:\n",
    "    img_root = fld\n",
    "    imgs = os.listdir(old_dir + fld)\n",
    "    for ig in imgs:\n",
    "        new_path = new_dir_root +'_'+ ig\n",
    "        old_path = old_dir + fld + '/' + ig\n",
    "        if count<10:\n",
    "            print old_path\n",
    "            print new_path\n",
    "            print '------------'\n",
    "        copy(old_path, new_path)\n",
    "        count+=1\n",
    "print len(os.listdir(new_dir_root))"
   ]
  },
  {
   "cell_type": "code",
   "execution_count": null,
   "metadata": {
    "collapsed": true
   },
   "outputs": [],
   "source": []
  }
 ],
 "metadata": {
  "kernelspec": {
   "display_name": "Python 2",
   "language": "python",
   "name": "python2"
  },
  "language_info": {
   "codemirror_mode": {
    "name": "ipython",
    "version": 2
   },
   "file_extension": ".py",
   "mimetype": "text/x-python",
   "name": "python",
   "nbconvert_exporter": "python",
   "pygments_lexer": "ipython2",
   "version": "2.7.12"
  }
 },
 "nbformat": 4,
 "nbformat_minor": 2
}
