{
 "cells": [
  {
   "cell_type": "code",
   "execution_count": 4,
   "metadata": {
    "collapsed": true
   },
   "outputs": [],
   "source": [
    "import numpy as np\n",
    "import matplotlib.pyplot as plt\n",
    "%matplotlib inline\n",
    "from sklearn.datasets import make_circles\n",
    "import keras\n",
    "from keras.layers import Dense, Activation\n",
    "from keras.models import Sequential\n",
    "from keras.utils import np_utils"
   ]
  },
  {
   "cell_type": "code",
   "execution_count": 15,
   "metadata": {
    "collapsed": false
   },
   "outputs": [
    {
     "data": {
      "image/png": "[encoded data removed]",
      "text/plain": [
       "<matplotlib.figure.Figure at 0x7f6897682510>"
      ]
     },
     "metadata": {},
     "output_type": "display_data"
    },
    {
     "name": "stdout",
     "output_type": "stream",
     "text": [
      "(4000, 2)\n",
      "(4000,)\n"
     ]
    }
   ],
   "source": [
    "X, y = make_circles(n_samples=4000, factor=0.4)\n",
    "\n",
    "plt.scatter(X[:, 0], X[:, 1])\n",
    "plt.show()\n",
    "print X.shape\n",
    "print y.shape"
   ]
  },
  {
   "cell_type": "code",
   "execution_count": 21,
   "metadata": {
    "collapsed": false
   },
   "outputs": [
    {
     "name": "stdout",
     "output_type": "stream",
     "text": [
      "(4000,)\n",
      "(array([0, 1]), array([2000, 2000]))\n",
      "(4000, 3)\n"
     ]
    }
   ],
   "source": [
    "print y.shape\n",
    "print np.unique(y, return_counts=True)\n",
    "\n",
    "Y = np_utils.to_categorical(y)\n",
    "print Y.shape"
   ]
  },
  {
   "cell_type": "code",
   "execution_count": 22,
   "metadata": {
    "collapsed": false
   },
   "outputs": [
    {
     "name": "stdout",
     "output_type": "stream",
     "text": [
      "[0. 1. 0.] --- 1\n",
      "[0. 1. 0.] --- 1\n",
      "[0. 1. 0.] --- 1\n",
      "[1. 0. 0.] --- 0\n",
      "[1. 0. 0.] --- 0\n",
      "[1. 0. 0.] --- 0\n",
      "[0. 1. 0.] --- 1\n",
      "[1. 0. 0.] --- 0\n",
      "[1. 0. 0.] --- 0\n",
      "[1. 0. 0.] --- 0\n"
     ]
    }
   ],
   "source": [
    "for ix in range(10):\n",
    "    print Y[ix], \"---\", y[ix]"
   ]
  },
  {
   "cell_type": "code",
   "execution_count": 8,
   "metadata": {
    "collapsed": false
   },
   "outputs": [
    {
     "name": "stdout",
     "output_type": "stream",
     "text": [
      "(2800, 2)\n"
     ]
    }
   ],
   "source": [
    "split = int(0.7*X.shape[0])\n",
    "X_train = X[:split, :]\n",
    "X_test = X[split:, :]\n",
    "\n",
    "print X_train.shape"
   ]
  },
  {
   "cell_type": "code",
   "execution_count": null,
   "metadata": {
    "collapsed": true
   },
   "outputs": [],
   "source": [
    "\n"
   ]
  }
 ],
 "metadata": {
  "kernelspec": {
   "display_name": "Python 2",
   "language": "python",
   "name": "python2"
  },
  "language_info": {
   "codemirror_mode": {
    "name": "ipython",
    "version": 2
   },
   "file_extension": ".py",
   "mimetype": "text/x-python",
   "name": "python",
   "nbconvert_exporter": "python",
   "pygments_lexer": "ipython2",
   "version": "2.7.12"
  }
 },
 "nbformat": 4,
 "nbformat_minor": 2
}
