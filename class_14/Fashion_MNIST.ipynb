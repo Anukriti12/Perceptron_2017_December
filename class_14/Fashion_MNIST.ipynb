{
 "cells": [
  {
   "cell_type": "code",
   "execution_count": 1,
   "metadata": {},
   "outputs": [],
   "source": [
    "import numpy as np\n",
    "import pandas as pd\n",
    "from matplotlib import pyplot as plt\n",
    "%matplotlib inline\n",
    "\n",
    "import keras\n",
    "from keras.layers import Dense, Convolution2D, Flatten, Activation, MaxPool2D, Dropout\n",
    "from keras.models import Sequential\n",
    "from keras.utils import np_utils\n",
    "\n",
    "import datetime"
   ]
  },
  {
   "cell_type": "code",
   "execution_count": 2,
   "metadata": {},
   "outputs": [],
   "source": [
    "ds = pd.read_csv(\"/home/vasu/all_projects/CB/fashion-mnist_train.csv\")\n",
    "data = ds.values[:15000]"
   ]
  },
  {
   "cell_type": "code",
   "execution_count": 3,
   "metadata": {},
   "outputs": [
    {
     "name": "stdout",
     "output_type": "stream",
     "text": [
      "7462\n"
     ]
    }
   ],
   "source": [
    "mask = data[:,0] < 5\n",
    "print mask.sum()"
   ]
  },
  {
   "cell_type": "code",
   "execution_count": 4,
   "metadata": {},
   "outputs": [
    {
     "name": "stdout",
     "output_type": "stream",
     "text": [
      "(7462, 785) (7538, 785)\n"
     ]
    }
   ],
   "source": [
    "data_01 , data_02 = [],[]\n",
    "\n",
    "for ix in range(data.shape[0]):\n",
    "    if mask[ix] == True:\n",
    "        data_01.append(data[ix])\n",
    "    else:\n",
    "        data_02.append(data[ix])\n",
    "        \n",
    "data_01 = np.array(data_01)\n",
    "data_02 = np.array(data_02)\n",
    "\n",
    "print data_01.shape,data_02.shape"
   ]
  },
  {
   "cell_type": "code",
   "execution_count": 6,
   "metadata": {},
   "outputs": [
    {
     "name": "stdout",
     "output_type": "stream",
     "text": [
      "(5969, 28, 28, 1) (5969, 5)\n",
      "(1493, 28, 28, 1) (1493, 5)\n"
     ]
    }
   ],
   "source": [
    "split = int(0.80*data_01.shape[0])\n",
    "\n",
    "X_train = data_01[:split, 1:]/255.0\n",
    "X_test = data_01[split:, 1:]/255.0\n",
    "\n",
    "X_train = X_train.reshape((-1,28,28,1))\n",
    "X_test = X_test.reshape((-1,28,28,1))\n",
    "\n",
    "Y_train = np_utils.to_categorical(data_01[:split,0],num_classes=5)\n",
    "Y_test = np_utils.to_categorical(data_01[split:,0], num_classes=5)\n",
    "\n",
    "print X_train.shape, Y_train.shape\n",
    "print X_test.shape, Y_test.shape"
   ]
  },
  {
   "cell_type": "code",
   "execution_count": 7,
   "metadata": {
    "scrolled": true
   },
   "outputs": [
    {
     "name": "stdout",
     "output_type": "stream",
     "text": [
      "_________________________________________________________________\n",
      "Layer (type)                 Output Shape              Param #   \n",
      "=================================================================\n",
      "conv2d_1 (Conv2D)            (None, 26, 26, 64)        640       \n",
      "_________________________________________________________________\n",
      "conv2d_2 (Conv2D)            (None, 24, 24, 32)        18464     \n",
      "_________________________________________________________________\n",
      "max_pooling2d_1 (MaxPooling2 (None, 12, 12, 32)        0         \n",
      "_________________________________________________________________\n",
      "conv2d_3 (Conv2D)            (None, 10, 10, 16)        4624      \n",
      "_________________________________________________________________\n",
      "conv2d_4 (Conv2D)            (None, 8, 8, 8)           1160      \n",
      "_________________________________________________________________\n",
      "flatten_1 (Flatten)          (None, 512)               0         \n",
      "_________________________________________________________________\n",
      "dense_1 (Dense)              (None, 128)               65664     \n",
      "_________________________________________________________________\n",
      "dropout_1 (Dropout)          (None, 128)               0         \n",
      "_________________________________________________________________\n",
      "dense_2 (Dense)              (None, 5)                 645       \n",
      "_________________________________________________________________\n",
      "activation_1 (Activation)    (None, 5)                 0         \n",
      "=================================================================\n",
      "Total params: 91,197\n",
      "Trainable params: 91,197\n",
      "Non-trainable params: 0\n",
      "_________________________________________________________________\n"
     ]
    }
   ],
   "source": [
    "model = Sequential()\n",
    "\n",
    "model.add(Convolution2D(64, (3,3), input_shape=(28,28,1), activation='relu'))\n",
    "model.add(Convolution2D(32, (3,3), activation='relu'))\n",
    "\n",
    "model.add(MaxPool2D(pool_size=(2,2)))\n",
    "\n",
    "model.add(Convolution2D(16, (3,3), activation='relu'))\n",
    "model.add(Convolution2D(8, (3,3), activation='relu'))\n",
    "\n",
    "model.add(Flatten())\n",
    "\n",
    "model.add(Dense(128, activation='relu'))\n",
    "model.add(Dropout(0.4))\n",
    "\n",
    "model.add(Dense(5))\n",
    "model.add(Activation('softmax'))\n",
    "\n",
    "model.summary()\n",
    "model.compile(loss='categorical_crossentropy', optimizer='adam',metrics=['accuracy'])"
   ]
  },
  {
   "cell_type": "code",
   "execution_count": 10,
   "metadata": {
    "scrolled": true
   },
   "outputs": [
    {
     "name": "stdout",
     "output_type": "stream",
     "text": [
      "Train on 5969 samples, validate on 1493 samples\n",
      "Epoch 1/20\n",
      "5969/5969 [==============================] - 10s - loss: 0.8964 - acc: 0.6473 - val_loss: 0.5058 - val_acc: 0.8031\n",
      "Epoch 2/20\n",
      "5969/5969 [==============================] - 8s - loss: 0.4933 - acc: 0.8119 - val_loss: 0.4578 - val_acc: 0.8305\n",
      "Epoch 3/20\n",
      "5969/5969 [==============================] - 7s - loss: 0.4273 - acc: 0.8365 - val_loss: 0.3958 - val_acc: 0.8500\n",
      "Epoch 4/20\n",
      "5969/5969 [==============================] - 7s - loss: 0.3771 - acc: 0.8599 - val_loss: 0.3800 - val_acc: 0.8674\n",
      "Epoch 5/20\n",
      "5969/5969 [==============================] - 8s - loss: 0.3502 - acc: 0.8707 - val_loss: 0.3525 - val_acc: 0.8747\n",
      "Epoch 6/20\n",
      "5969/5969 [==============================] - 7s - loss: 0.3056 - acc: 0.8859 - val_loss: 0.3338 - val_acc: 0.8754\n",
      "Epoch 7/20\n",
      "5969/5969 [==============================] - 7s - loss: 0.2838 - acc: 0.8981 - val_loss: 0.2984 - val_acc: 0.8895\n",
      "Epoch 8/20\n",
      "5969/5969 [==============================] - 7s - loss: 0.2709 - acc: 0.9060 - val_loss: 0.3082 - val_acc: 0.8955\n",
      "Epoch 9/20\n",
      "5969/5969 [==============================] - 7s - loss: 0.2571 - acc: 0.9060 - val_loss: 0.2988 - val_acc: 0.8875\n",
      "Epoch 10/20\n",
      "5969/5969 [==============================] - 7s - loss: 0.2441 - acc: 0.9067 - val_loss: 0.2910 - val_acc: 0.8928\n",
      "Epoch 11/20\n",
      "5969/5969 [==============================] - 7s - loss: 0.2342 - acc: 0.9144 - val_loss: 0.2867 - val_acc: 0.8928\n",
      "Epoch 12/20\n",
      "5969/5969 [==============================] - 7s - loss: 0.2196 - acc: 0.9229 - val_loss: 0.2809 - val_acc: 0.9062\n",
      "Epoch 13/20\n",
      "5969/5969 [==============================] - 7s - loss: 0.2188 - acc: 0.9214 - val_loss: 0.2879 - val_acc: 0.8935\n",
      "Epoch 14/20\n",
      "5969/5969 [==============================] - 7s - loss: 0.2052 - acc: 0.9234 - val_loss: 0.2916 - val_acc: 0.8962\n",
      "Epoch 15/20\n",
      "5969/5969 [==============================] - 8s - loss: 0.2069 - acc: 0.9208 - val_loss: 0.2736 - val_acc: 0.9156\n",
      "Epoch 16/20\n",
      "5969/5969 [==============================] - 7s - loss: 0.1843 - acc: 0.9300 - val_loss: 0.2731 - val_acc: 0.9035\n",
      "Epoch 17/20\n",
      "5969/5969 [==============================] - 8s - loss: 0.1835 - acc: 0.9318 - val_loss: 0.2592 - val_acc: 0.9062\n",
      "Epoch 18/20\n",
      "5969/5969 [==============================] - 8s - loss: 0.1797 - acc: 0.9345 - val_loss: 0.2632 - val_acc: 0.9049\n",
      "Epoch 19/20\n",
      "5969/5969 [==============================] - 8s - loss: 0.1627 - acc: 0.9417 - val_loss: 0.2865 - val_acc: 0.8969\n",
      "Epoch 20/20\n",
      "5969/5969 [==============================] - 8s - loss: 0.1613 - acc: 0.9420 - val_loss: 0.2762 - val_acc: 0.9042\n",
      "0:02:39.267464\n"
     ]
    }
   ],
   "source": [
    "start = datetime.datetime.now()\n",
    "\n",
    "hist = model.fit(X_train,Y_train, epochs=20,shuffle=True,batch_size=128,validation_data=(X_test,Y_test))\n",
    "\n",
    "print datetime.datetime.now() - start"
   ]
  },
  {
   "cell_type": "code",
   "execution_count": 11,
   "metadata": {},
   "outputs": [
    {
     "name": "stdout",
     "output_type": "stream",
     "text": [
      "_________________________________________________________________\n",
      "Layer (type)                 Output Shape              Param #   \n",
      "=================================================================\n",
      "conv2d_1 (Conv2D)            (None, 26, 26, 64)        640       \n",
      "_________________________________________________________________\n",
      "conv2d_2 (Conv2D)            (None, 24, 24, 32)        18464     \n",
      "_________________________________________________________________\n",
      "max_pooling2d_1 (MaxPooling2 (None, 12, 12, 32)        0         \n",
      "_________________________________________________________________\n",
      "conv2d_3 (Conv2D)            (None, 10, 10, 16)        4624      \n",
      "_________________________________________________________________\n",
      "conv2d_4 (Conv2D)            (None, 8, 8, 8)           1160      \n",
      "_________________________________________________________________\n",
      "flatten_1 (Flatten)          (None, 512)               0         \n",
      "_________________________________________________________________\n",
      "dense_3 (Dense)              (None, 5)                 2565      \n",
      "_________________________________________________________________\n",
      "activation_2 (Activation)    (None, 5)                 0         \n",
      "=================================================================\n",
      "Total params: 27,453\n",
      "Trainable params: 2,565\n",
      "Non-trainable params: 24,888\n",
      "_________________________________________________________________\n"
     ]
    }
   ],
   "source": [
    "transfer_model = Sequential(model.layers[:-4])\n",
    "\n",
    "for ix in transfer_model.layers:\n",
    "    ix.trainable = False\n",
    "    \n",
    "transfer_model.add(Dense(5))\n",
    "transfer_model.add(Activation('softmax'))\n",
    "\n",
    "transfer_model.summary()\n",
    "transfer_model.compile(loss='categorical_crossentropy', optimizer='adam',metrics=['accuracy'])"
   ]
  },
  {
   "cell_type": "code",
   "execution_count": 13,
   "metadata": {},
   "outputs": [
    {
     "name": "stdout",
     "output_type": "stream",
     "text": [
      "(6030, 28, 28, 1) (6030, 5)\n",
      "(1508, 28, 28, 1) (1508, 5)\n"
     ]
    }
   ],
   "source": [
    "split = int(0.80*data_02.shape[0])\n",
    "\n",
    "X_train = data_02[:split, 1:]/255.0\n",
    "X_test = data_02[split:, 1:]/255.0\n",
    "\n",
    "X_train = X_train.reshape((-1,28,28,1))\n",
    "X_test = X_test.reshape((-1,28,28,1))\n",
    "\n",
    "Y_train = np_utils.to_categorical(data_02[:split,0]-5,num_classes=5)\n",
    "Y_test = np_utils.to_categorical(data_02[split:,0]-5, num_classes=5)\n",
    "\n",
    "print X_train.shape, Y_train.shape\n",
    "print X_test.shape, Y_test.shape"
   ]
  },
  {
   "cell_type": "code",
   "execution_count": 15,
   "metadata": {},
   "outputs": [
    {
     "name": "stdout",
     "output_type": "stream",
     "text": [
      "Train on 6030 samples, validate on 1508 samples\n",
      "Epoch 1/20\n",
      "6030/6030 [==============================] - 3s - loss: 0.9001 - acc: 0.7172 - val_loss: 0.4237 - val_acc: 0.9058\n",
      "Epoch 2/20\n",
      "6030/6030 [==============================] - 3s - loss: 0.3432 - acc: 0.9146 - val_loss: 0.2939 - val_acc: 0.9125\n",
      "Epoch 3/20\n",
      "6030/6030 [==============================] - 3s - loss: 0.2660 - acc: 0.9250 - val_loss: 0.2514 - val_acc: 0.9231\n",
      "Epoch 4/20\n",
      "6030/6030 [==============================] - 3s - loss: 0.2316 - acc: 0.9320 - val_loss: 0.2255 - val_acc: 0.9297\n",
      "Epoch 5/20\n",
      "6030/6030 [==============================] - 3s - loss: 0.2116 - acc: 0.9355 - val_loss: 0.2091 - val_acc: 0.9357\n",
      "Epoch 6/20\n",
      "6030/6030 [==============================] - 3s - loss: 0.1964 - acc: 0.9383 - val_loss: 0.1987 - val_acc: 0.9370\n",
      "Epoch 7/20\n",
      "6030/6030 [==============================] - 3s - loss: 0.1851 - acc: 0.9408 - val_loss: 0.1888 - val_acc: 0.9390\n",
      "Epoch 8/20\n",
      "6030/6030 [==============================] - 3s - loss: 0.1788 - acc: 0.9421 - val_loss: 0.1833 - val_acc: 0.9397\n",
      "Epoch 9/20\n",
      "6030/6030 [==============================] - 3s - loss: 0.1694 - acc: 0.9458 - val_loss: 0.1770 - val_acc: 0.9430\n",
      "Epoch 10/20\n",
      "6030/6030 [==============================] - 3s - loss: 0.1633 - acc: 0.9476 - val_loss: 0.1750 - val_acc: 0.9410\n",
      "Epoch 11/20\n",
      "6030/6030 [==============================] - 3s - loss: 0.1578 - acc: 0.9476 - val_loss: 0.1656 - val_acc: 0.9463\n",
      "Epoch 12/20\n",
      "6030/6030 [==============================] - 3s - loss: 0.1541 - acc: 0.9484 - val_loss: 0.1630 - val_acc: 0.94300.\n",
      "Epoch 13/20\n",
      "6030/6030 [==============================] - 3s - loss: 0.1497 - acc: 0.9494 - val_loss: 0.1580 - val_acc: 0.9443\n",
      "Epoch 14/20\n",
      "6030/6030 [==============================] - 3s - loss: 0.1471 - acc: 0.9498 - val_loss: 0.1546 - val_acc: 0.9463\n",
      "Epoch 15/20\n",
      "6030/6030 [==============================] - 3s - loss: 0.1424 - acc: 0.9512 - val_loss: 0.1531 - val_acc: 0.9489\n",
      "Epoch 16/20\n",
      "6030/6030 [==============================] - 3s - loss: 0.1390 - acc: 0.9526 - val_loss: 0.1517 - val_acc: 0.9509\n",
      "Epoch 17/20\n",
      "6030/6030 [==============================] - 3s - loss: 0.1371 - acc: 0.9537 - val_loss: 0.1483 - val_acc: 0.9483\n",
      "Epoch 18/20\n",
      "6030/6030 [==============================] - 3s - loss: 0.1340 - acc: 0.9544 - val_loss: 0.1463 - val_acc: 0.9516\n",
      "Epoch 19/20\n",
      "6030/6030 [==============================] - 3s - loss: 0.1320 - acc: 0.9552 - val_loss: 0.1437 - val_acc: 0.9483\n",
      "Epoch 20/20\n",
      "6030/6030 [==============================] - 3s - loss: 0.1303 - acc: 0.9559 - val_loss: 0.1404 - val_acc: 0.9523\n",
      "0:01:11.637730\n"
     ]
    }
   ],
   "source": [
    "start = datetime.datetime.now()\n",
    "\n",
    "hist = transfer_model.fit(X_train,Y_train, epochs=20,shuffle=True,batch_size=128,validation_data=(X_test,Y_test))\n",
    "\n",
    "print datetime.datetime.now() - start"
   ]
  }
 ],
 "metadata": {
  "kernelspec": {
   "display_name": "Python 2",
   "language": "python",
   "name": "python2"
  },
  "language_info": {
   "codemirror_mode": {
    "name": "ipython",
    "version": 2
   },
   "file_extension": ".py",
   "mimetype": "text/x-python",
   "name": "python",
   "nbconvert_exporter": "python",
   "pygments_lexer": "ipython2",
   "version": "2.7.12"
  }
 },
 "nbformat": 4,
 "nbformat_minor": 2
}
