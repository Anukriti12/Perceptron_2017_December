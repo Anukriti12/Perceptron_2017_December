{
 "cells": [
  {
   "cell_type": "code",
   "execution_count": 6,
   "metadata": {
    "collapsed": false
   },
   "outputs": [
    {
     "name": "stdout",
     "output_type": "stream",
     "text": [
      "<type 'int'>\n",
      "<type 'float'>\n",
      "<type 'str'>\n",
      "this is a string . yes\n"
     ]
    }
   ],
   "source": [
    "## String or Variables\n",
    "x = 2\n",
    "print type(x)\n",
    "\n",
    "x = 2.0\n",
    "print type(x)\n",
    "\n",
    "x = 'this is a string'\n",
    "print type(x)\n",
    "\n",
    "x2 = ' . yes'\n",
    "print x+ x2"
   ]
  },
  {
   "cell_type": "code",
   "execution_count": 12,
   "metadata": {
    "collapsed": false
   },
   "outputs": [
    {
     "name": "stdout",
     "output_type": "stream",
     "text": [
      "bcde\n",
      "bd\n",
      "i\n",
      "cde\n",
      "\n"
     ]
    }
   ],
   "source": [
    "## String slicing\n",
    "my_string = 'abcdefghi'\n",
    "my_string_slice = my_string[1:5]\n",
    "print my_string_slice\n",
    "\n",
    "my_string_slice_2 = my_string[1:5:2]\n",
    "print my_string_slice_2\n",
    "\n",
    "print my_string[-1]\n",
    "\n",
    "print my_string[-7:-4]\n",
    "print my_string[-4:-7]"
   ]
  },
  {
   "cell_type": "code",
   "execution_count": 21,
   "metadata": {
    "collapsed": false
   },
   "outputs": [
    {
     "name": "stdout",
     "output_type": "stream",
     "text": [
      "<type 'list'>\n",
      "['abcde', 'ghijk', 'mnoph']\n",
      "abcde-ghijk-mnoph\n"
     ]
    }
   ],
   "source": [
    "## String split and joins\n",
    "test_string = 'abcde.ghijk.mnoph'\n",
    "ans = test_string.split('.',3)\n",
    "print type(ans)\n",
    "print ans\n",
    "\n",
    "joined_test_string = '-'.join(ans)\n",
    "print joined_test_string"
   ]
  },
  {
   "cell_type": "code",
   "execution_count": 24,
   "metadata": {
    "collapsed": false
   },
   "outputs": [
    {
     "name": "stdout",
     "output_type": "stream",
     "text": [
      "[0, 1, 2, 3, 4, 5, 6, 7, 8, 9]\n",
      "[1, 2, 3, 4, 5, 6]\n"
     ]
    }
   ],
   "source": [
    "## Range\n",
    "x = range(10)\n",
    "print x\n",
    "\n",
    "x2 = range(1,7)\n",
    "print x2"
   ]
  },
  {
   "cell_type": "code",
   "execution_count": 27,
   "metadata": {
    "collapsed": false
   },
   "outputs": [
    {
     "name": "stdout",
     "output_type": "stream",
     "text": [
      "[0, 2, 4]\n",
      "[0, 1, 4]\n",
      "[6, 5, 0, 2, 4]\n"
     ]
    }
   ],
   "source": [
    "## Lists\n",
    "x1 = []\n",
    "x2 = list()\n",
    "for ix in range(3):\n",
    "    x1.append(ix*2)\n",
    "    x2.append(ix**2)\n",
    "print x1\n",
    "print x2\n",
    "\n",
    "## List insert method\n",
    "for ix in range(5,7):\n",
    "    x1.insert(0,ix)\n",
    "    \n",
    "print x1"
   ]
  },
  {
   "cell_type": "code",
   "execution_count": 26,
   "metadata": {
    "collapsed": false
   },
   "outputs": [
    {
     "name": "stdout",
     "output_type": "stream",
     "text": [
      "aaaaa\n"
     ]
    }
   ],
   "source": [
    "print 'a'*5"
   ]
  },
  {
   "cell_type": "code",
   "execution_count": 29,
   "metadata": {
    "collapsed": false
   },
   "outputs": [
    {
     "name": "stdout",
     "output_type": "stream",
     "text": [
      "{0: 0, 1: 1, 2: 8, 3: 27, 4: 64}\n",
      "[0, 1, 2, 3, 4]\n",
      "[0, 1, 8, 27, 64]\n"
     ]
    }
   ],
   "source": [
    "## Dictionaries\n",
    "dict1 = {}\n",
    "dict2 = dict()\n",
    "for ix in range(5):\n",
    "    dict1[ix] = ix**3\n",
    "print dict1\n",
    "\n",
    "print dict1.keys()\n",
    "print dict1.values()"
   ]
  },
  {
   "cell_type": "code",
   "execution_count": 31,
   "metadata": {
    "collapsed": true
   },
   "outputs": [],
   "source": [
    "## Function in python\n",
    "def get_square(x1):\n",
    "    ans = x1**2\n",
    "    return ans"
   ]
  },
  {
   "cell_type": "code",
   "execution_count": 32,
   "metadata": {
    "collapsed": false
   },
   "outputs": [
    {
     "name": "stdout",
     "output_type": "stream",
     "text": [
      "16\n"
     ]
    }
   ],
   "source": [
    "print get_square(4)"
   ]
  },
  {
   "cell_type": "code",
   "execution_count": 48,
   "metadata": {
    "collapsed": false
   },
   "outputs": [],
   "source": [
    "class My_Class:\n",
    "    arr = [] ## All objects of the class\n",
    "    def __init__(self, inp):\n",
    "        self.x = inp\n",
    "        self.arr2 = []\n",
    "        self.arr2.append(inp)\n",
    "        self.arr.append(inp)\n",
    "    def get_square(self):\n",
    "        return self.x**2"
   ]
  },
  {
   "cell_type": "code",
   "execution_count": 49,
   "metadata": {
    "collapsed": false
   },
   "outputs": [
    {
     "name": "stdout",
     "output_type": "stream",
     "text": [
      "5\n",
      "[5]\n",
      "[5]\n",
      "--------\n",
      "10\n",
      "[5, 10]\n",
      "[10]\n",
      "100\n",
      "[5, 10]\n"
     ]
    }
   ],
   "source": [
    "a = My_Class(5)\n",
    "print a.x\n",
    "print a.arr\n",
    "print a.arr2\n",
    "print \"--------\"\n",
    "a2 = My_Class(10)\n",
    "print a2.x\n",
    "print a2.arr\n",
    "print a2.arr2\n",
    "print a2.get_square()\n",
    "\n",
    "print My_Class.arr"
   ]
  },
  {
   "cell_type": "code",
   "execution_count": 50,
   "metadata": {
    "collapsed": false
   },
   "outputs": [
    {
     "ename": "SyntaxError",
     "evalue": "invalid syntax (<ipython-input-50-614dd0e977be>, line 1)",
     "output_type": "error",
     "traceback": [
      "\u001b[0;36m  File \u001b[0;32m\"<ipython-input-50-614dd0e977be>\"\u001b[0;36m, line \u001b[0;32m1\u001b[0m\n\u001b[0;31m    def\u001b[0m\n\u001b[0m       ^\u001b[0m\n\u001b[0;31mSyntaxError\u001b[0m\u001b[0;31m:\u001b[0m invalid syntax\n"
     ]
    }
   ],
   "source": []
  },
  {
   "cell_type": "code",
   "execution_count": 53,
   "metadata": {
    "collapsed": false
   },
   "outputs": [
    {
     "name": "stdout",
     "output_type": "stream",
     "text": [
      "<type 'tuple'>\n",
      "<type 'list'>\n",
      "(2, 3, 4)\n",
      "[2, 3, 4]\n",
      "[2, 0, 4]\n"
     ]
    },
    {
     "ename": "TypeError",
     "evalue": "'tuple' object does not support item assignment",
     "output_type": "error",
     "traceback": [
      "\u001b[0;31m---------------------------------------------------------------------------\u001b[0m",
      "\u001b[0;31mTypeError\u001b[0m                                 Traceback (most recent call last)",
      "\u001b[0;32m<ipython-input-53-4cd942a32fff>\u001b[0m in \u001b[0;36m<module>\u001b[0;34m()\u001b[0m\n\u001b[1;32m      7\u001b[0m \u001b[0mx2\u001b[0m\u001b[0;34m[\u001b[0m\u001b[0;36m1\u001b[0m\u001b[0;34m]\u001b[0m \u001b[0;34m=\u001b[0m \u001b[0;36m0\u001b[0m\u001b[0;34m\u001b[0m\u001b[0m\n\u001b[1;32m      8\u001b[0m \u001b[0;32mprint\u001b[0m \u001b[0mx2\u001b[0m\u001b[0;34m\u001b[0m\u001b[0m\n\u001b[0;32m----> 9\u001b[0;31m \u001b[0mx\u001b[0m\u001b[0;34m[\u001b[0m\u001b[0;36m1\u001b[0m\u001b[0;34m]\u001b[0m \u001b[0;34m=\u001b[0m \u001b[0;36m0\u001b[0m\u001b[0;34m\u001b[0m\u001b[0m\n\u001b[0m\u001b[1;32m     10\u001b[0m \u001b[0;32mprint\u001b[0m \u001b[0mx\u001b[0m\u001b[0;34m\u001b[0m\u001b[0m\n",
      "\u001b[0;31mTypeError\u001b[0m: 'tuple' object does not support item assignment"
     ]
    }
   ],
   "source": [
    "x = (2,3,4)\n",
    "x2 = [2, 3, 4]\n",
    "print type(x)\n",
    "print type(x2)\n",
    "print x\n",
    "print x2\n",
    "x2[1] = 0\n",
    "print x2\n",
    "x[1] = 0\n",
    "print x"
   ]
  },
  {
   "cell_type": "code",
   "execution_count": 62,
   "metadata": {
    "collapsed": true
   },
   "outputs": [],
   "source": [
    "## Args and Kwargs\n",
    "def sum(x1, x2, *args, **kwargs):\n",
    "    print args\n",
    "    print kwargs\n",
    "    sum_ans = x1+x2\n",
    "    for ix in args:\n",
    "        sum_ans+=ix\n",
    "    for ix in kwargs:\n",
    "        sum_ans+=kwargs[ix]\n",
    "    return sum_ans"
   ]
  },
  {
   "cell_type": "code",
   "execution_count": 63,
   "metadata": {
    "collapsed": false
   },
   "outputs": [
    {
     "name": "stdout",
     "output_type": "stream",
     "text": [
      "(3,)\n",
      "{'m': 4}\n",
      "6\n"
     ]
    }
   ],
   "source": [
    "print sum(1,2,3,m=4)"
   ]
  },
  {
   "cell_type": "code",
   "execution_count": null,
   "metadata": {
    "collapsed": true
   },
   "outputs": [],
   "source": []
  }
 ],
 "metadata": {
  "kernelspec": {
   "display_name": "Python 2",
   "language": "python",
   "name": "python2"
  },
  "language_info": {
   "codemirror_mode": {
    "name": "ipython",
    "version": 2
   },
   "file_extension": ".py",
   "mimetype": "text/x-python",
   "name": "python",
   "nbconvert_exporter": "python",
   "pygments_lexer": "ipython2",
   "version": "2.7.12"
  }
 },
 "nbformat": 4,
 "nbformat_minor": 2
}
