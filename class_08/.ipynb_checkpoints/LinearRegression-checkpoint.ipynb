{
 "cells": [
  {
   "cell_type": "code",
   "execution_count": 1,
   "metadata": {},
   "outputs": [],
   "source": [
    "import numpy as np\n",
    "import matplotlib.pyplot as plt\n",
    "%matplotlib inline\n",
    "from sklearn.datasets import make_regression"
   ]
  },
  {
   "cell_type": "code",
   "execution_count": 10,
   "metadata": {},
   "outputs": [
    {
     "name": "stdout",
     "output_type": "stream",
     "text": [
      "(500, 1) (500,)\n"
     ]
    }
   ],
   "source": [
    "X,y = make_regression(n_samples=500, n_features=1, bias=4.7, noise=7.5)\n",
    "print X.shape, y.shape"
   ]
  },
  {
   "cell_type": "code",
   "execution_count": 11,
   "metadata": {},
   "outputs": [
    {
     "data": {
      "text/plain": [
       "<matplotlib.collections.PathCollection at 0x7fcbc979c1d0>"
      ]
     },
     "execution_count": 11,
     "metadata": {},
     "output_type": "execute_result"
    },
    {
     "data": {
      "image/png": "[encoded data removed]",
      "text/plain": [
       "<matplotlib.figure.Figure at 0x7fcbc9874110>"
      ]
     },
     "metadata": {},
     "output_type": "display_data"
    }
   ],
   "source": [
    "plt.scatter(X,y)"
   ]
  },
  {
   "cell_type": "code",
   "execution_count": 12,
   "metadata": {},
   "outputs": [
    {
     "name": "stdout",
     "output_type": "stream",
     "text": [
      "(400, 1) (400,) (100, 1) (100,)\n"
     ]
    }
   ],
   "source": [
    "split = int(0.8*X.shape[0])\n",
    "\n",
    "X_train = X[:split]\n",
    "X_test = X[split:]\n",
    "\n",
    "y_train = y[:split]\n",
    "y_test = y[split:]\n",
    "\n",
    "print X_train.shape,y_train.shape,X_test.shape,y_test.shape"
   ]
  },
  {
   "cell_type": "code",
   "execution_count": 14,
   "metadata": {},
   "outputs": [],
   "source": [
    "def hypothesis(x,w):\n",
    "    x0 = 1\n",
    "    return w[0]*x0 + w[1]*x\n",
    "\n",
    "def get_error(x,w, y_true):\n",
    "    err = 0.0\n",
    "    m = x.shape[0]\n",
    "    \n",
    "    for ix in range(m):\n",
    "        err += (y_true[ix]-hypothesis(x[ix],w))**2\n",
    "    \n",
    "    err = err/2*m\n",
    "    return err"
   ]
  },
  {
   "cell_type": "code",
   "execution_count": 19,
   "metadata": {},
   "outputs": [],
   "source": [
    "def get_grad(x,w,y_true):\n",
    "    grad_0 = 0.0\n",
    "    grad_1 = 0.0\n",
    "    \n",
    "    m = x.shape[0]\n",
    "    \n",
    "    for ix in range(m):\n",
    "        grad_0 += (y_true[ix] - hypothesis(x[ix],w))*(-1)\n",
    "        grad_1 += (y_true[ix] - hypothesis(x[ix],w))*(-1*x[ix])\n",
    "    \n",
    "    grad_0 = grad_0/m\n",
    "    grad_1 = grad_1/m\n",
    "    \n",
    "    return [grad_0,grad_1]\n",
    "\n",
    "def get_stochastic_grad(x_sample,w,y_true):\n",
    "    grad_0 = 0.0\n",
    "    grad_1 = 0.0\n",
    "    \n",
    "    grad_0 = (y_true - hypothesis(x_sample,w))*(-1)\n",
    "    grad_1 = (y_true - hypothesis(x_sample,w))*(-1*x_sample)\n",
    "    \n",
    "    return [grad_0,grad_1]"
   ]
  },
  {
   "cell_type": "code",
   "execution_count": 15,
   "metadata": {},
   "outputs": [],
   "source": [
    "def gradient_descent(x,w,y_true, learning_rate = 0.1):\n",
    "    error = get_error(x,w,y_true)\n",
    "    \n",
    "    [grad_0,grad_1] = get_grad(x,w,y_true)\n",
    "    \n",
    "    w[0] = w[0] - learning_rate*grad_0\n",
    "    w[1] = w[1] - learning_rate*grad_1\n",
    "    \n",
    "    return error, w"
   ]
  },
  {
   "cell_type": "code",
   "execution_count": 16,
   "metadata": {},
   "outputs": [],
   "source": [
    "def stochastic_gradient_descent(x,w,y_true, learning_rate=0.1):\n",
    "    error = get_error(x,w,y_true)\n",
    "    \n",
    "    for ix in range(x.shape[0]):\n",
    "        [grad_0, grad_1] = get_stochastic_grad(x[ix], w, y_true[ix])\n",
    "        \n",
    "        w[0] = w[0] - learning_rate*grad_0\n",
    "        w[1] = w[1] - learning_rate*grad_1\n",
    "        \n",
    "    return error, w"
   ]
  },
  {
   "cell_type": "code",
   "execution_count": 25,
   "metadata": {},
   "outputs": [],
   "source": [
    "W = np.array([0.1,0.1])\n",
    "loss = []"
   ]
  },
  {
   "cell_type": "code",
   "execution_count": 32,
   "metadata": {},
   "outputs": [
    {
     "name": "stdout",
     "output_type": "stream",
     "text": [
      "[ 4.16620193 51.0579907 ]\n"
     ]
    }
   ],
   "source": [
    "for ix in range(600):\n",
    "    er, w = gradient_descent(X_train, W, y_train, learning_rate=0.01)\n",
    "    loss.append(er)\n",
    "    \n",
    "print W"
   ]
  },
  {
   "cell_type": "code",
   "execution_count": 34,
   "metadata": {},
   "outputs": [
    {
     "name": "stdout",
     "output_type": "stream",
     "text": [
      "[ 4.19145869 50.63637495]\n"
     ]
    }
   ],
   "source": [
    "for ix in range(600):\n",
    "    er, w = stochastic_gradient_descent(X_train, W, y_train, learning_rate=0.01)\n",
    "    loss.append(er)\n",
    "    \n",
    "print W"
   ]
  },
  {
   "cell_type": "code",
   "execution_count": 35,
   "metadata": {},
   "outputs": [
    {
     "data": {
      "image/png": "[encoded data removed]",
      "text/plain": [
       "<matplotlib.figure.Figure at 0x7fcbc7059790>"
      ]
     },
     "metadata": {},
     "output_type": "display_data"
    },
    {
     "name": "stdout",
     "output_type": "stream",
     "text": [
      "[4150112.7726592]\n"
     ]
    }
   ],
   "source": [
    "plt.plot(loss)\n",
    "plt.show()\n",
    "\n",
    "print loss[-1]"
   ]
  },
  {
   "cell_type": "code",
   "execution_count": 30,
   "metadata": {},
   "outputs": [],
   "source": [
    "from sklearn.linear_model import LinearRegression"
   ]
  },
  {
   "cell_type": "code",
   "execution_count": 36,
   "metadata": {},
   "outputs": [
    {
     "data": {
      "text/plain": [
       "LinearRegression(copy_X=True, fit_intercept=True, n_jobs=1, normalize=False)"
      ]
     },
     "execution_count": 36,
     "metadata": {},
     "output_type": "execute_result"
    }
   ],
   "source": [
    "lr = LinearRegression()\n",
    "lr.fit(X_train,y_train)"
   ]
  },
  {
   "cell_type": "code",
   "execution_count": 37,
   "metadata": {},
   "outputs": [
    {
     "data": {
      "text/plain": [
       "0.9845080731742365"
      ]
     },
     "execution_count": 37,
     "metadata": {},
     "output_type": "execute_result"
    }
   ],
   "source": [
    "lr.score(X_test,y_test)"
   ]
  }
 ],
 "metadata": {
  "kernelspec": {
   "display_name": "Python 2",
   "language": "python",
   "name": "python2"
  },
  "language_info": {
   "codemirror_mode": {
    "name": "ipython",
    "version": 2
   },
   "file_extension": ".py",
   "mimetype": "text/x-python",
   "name": "python",
   "nbconvert_exporter": "python",
   "pygments_lexer": "ipython2",
   "version": "2.7.12"
  }
 },
 "nbformat": 4,
 "nbformat_minor": 2
}
